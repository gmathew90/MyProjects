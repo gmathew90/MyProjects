{
 "cells": [
  {
   "cell_type": "code",
   "execution_count": 23,
   "metadata": {
    "collapsed": true
   },
   "outputs": [],
   "source": [
    "import os\n",
    "import re\n",
    "import numpy as np\n",
    "from TwitterAPI import TwitterAPI\n",
    "import ConfigParser\n",
    "from sklearn.feature_extraction.text import CountVectorizer\n",
    "from sklearn.linear_model import LogisticRegression\n",
    "from sklearn.multiclass import OneVsRestClassifier\n",
    "from sklearn.cross_validation import KFold\n",
    "from sklearn.metrics import accuracy_score\n",
    "from sklearn.pipeline import Pipeline\n",
    "from sklearn.feature_extraction.text import TfidfTransformer\n",
    "from sklearn.svm import LinearSVC\n",
    "from collections import Counter\n",
    "import matplotlib.pyplot as plt\n",
    "%matplotlib inline"
   ]
  },
  {
   "cell_type": "code",
   "execution_count": 24,
   "metadata": {
    "collapsed": true
   },
   "outputs": [],
   "source": [
    "def labl(filename):\n",
    "    \"\"\"\n",
    "We have a file with labels corresponding to each class\n",
    "Params:\n",
    "filename:The name of the file from which the labels have to be read from\n",
    "Returns\n",
    "label: A dictionary with the key as the class and the item as the name of the class\n",
    "\"\"\"\n",
    "    label={}\n",
    "    with open(filename) as f:\n",
    "        for l in f:\n",
    "            label[l.split(':')[0]]=l.split(':')[1].strip()\n",
    "    return label"
   ]
  },
  {
   "cell_type": "code",
   "execution_count": 25,
   "metadata": {
    "collapsed": false
   },
   "outputs": [
    {
     "name": "stdout",
     "output_type": "stream",
     "text": [
      "Sad : 399\n",
      "Happy : 399\n",
      "We will be training our classifier using 399 tweets from each class\n"
     ]
    }
   ],
   "source": [
    "def count_classifier(path):\n",
    "    \"\"\"\n",
    "This function is used to read the tweets from the files.We have 7 files,one file for each class.\n",
    "Params:\n",
    "Path: path has the location of the files with the tweets\n",
    "Returns:\n",
    "num_list: is a list with number of tweets in each file \n",
    "file_list: is a list with the name of the files\n",
    "\"\"\" \n",
    "   \n",
    "    file_list=[]\n",
    "    k=os.listdir(path)\n",
    "    num_list=[]\n",
    "    for t in k:\n",
    "        if t.endswith('.txt'):\n",
    "            file_list.append(t)\n",
    "    for k in file_list:\n",
    "        with open(path+os.sep+k) as f:\n",
    "            p=f.read().count('<endofTweet>')\n",
    "            \n",
    "            num_list.append(p)\n",
    "        \n",
    "    return num_list,file_list\n",
    "\n",
    "path='data'\n",
    "lab=labl('label.txt')\n",
    "num_list,file_list=count_classifier(path)\n",
    "for m in range(len(num_list)):\n",
    "    \n",
    "    print lab[file_list[m].split('.txt')[0]]+' : '+'%d'%num_list[m]\n",
    "print 'We will be training our classifier using %d tweets from each class' %min(num_list)"
   ]
  },
  {
   "cell_type": "code",
   "execution_count": 26,
   "metadata": {
    "collapsed": false
   },
   "outputs": [
    {
     "name": "stdout",
     "output_type": "stream",
     "text": [
      "[399, 399]\n",
      "['-1.txt', '1.txt']\n"
     ]
    }
   ],
   "source": [
    "print num_list\n",
    "print file_list"
   ]
  },
  {
   "cell_type": "code",
   "execution_count": 27,
   "metadata": {
    "collapsed": false
   },
   "outputs": [],
   "source": [
    "def get_true_labels(file_list,num_list):\n",
    "    \"\"\"\n",
    "    Constructs the Training set true values for the classifier\n",
    "    Params:\n",
    "    file_list:list of files to be considered\n",
    "    num_list:the number of tweets in each class\n",
    "    Returns:\n",
    "    An array of training set true values of the tweets\n",
    "    \"\"\"\n",
    "    a=np.empty(len(file_list)*min(num_list),dtype=int)\n",
    "    n=0\n",
    "    for k in file_list:\n",
    "        for p in range(min(num_list)):\n",
    "            a[n]=k.split('.txt')[0]\n",
    "            n=n+1\n",
    "           \n",
    "    return a\n",
    "\n"
   ]
  },
  {
   "cell_type": "code",
   "execution_count": 28,
   "metadata": {
    "collapsed": false
   },
   "outputs": [
    {
     "name": "stdout",
     "output_type": "stream",
     "text": [
      "go get this you won t be sorry go get this you won t be sorry go get this you won t be soory \n"
     ]
    }
   ],
   "source": [
    "def tokenize(txt):\n",
    "    \"\"\"\n",
    "    This tokenizing function removes all the mentions,urls and punctuations\n",
    "    Params:\n",
    "    txt: A string to be tokenized\n",
    "    Returns\n",
    "    A lower case txt with all mentions,urls and punctuations removed\n",
    "    \"\"\"\n",
    "    l=''\n",
    "    for m in (txt.split('<endofTweet>')[0]).split():\n",
    "        if (m[0:5]!='https') and m[0]!='@':\n",
    "            l=l+m+' '\n",
    "    return re.sub('\\W+', ' ',l.lower())\n",
    "print (tokenize(\"Go get this. You won't be sorry. Go get this. You won't be sorry. Go get this. YOU WON'T BE SOORY.  https://t.co/iP4tM0MfKx<endofTweet>\"))"
   ]
  },
  {
   "cell_type": "code",
   "execution_count": 29,
   "metadata": {
    "collapsed": false
   },
   "outputs": [],
   "source": [
    "def tweet_list(file_list,num_list,path):\n",
    "    \"\"\"\n",
    "    Constructs the Training set X values for the classifier\n",
    "    Params:\n",
    "    file_list:list of files to be considered\n",
    "    num_list:the number of tweets in each class\n",
    "    path: the location of the files\n",
    "    Returns:\n",
    "    A list of tweets to be considered for the classifier\n",
    "    \"\"\"\n",
    "    lis=[]\n",
    "    for k in file_list:\n",
    "        with open(path+os.sep+k) as f:\n",
    "            for m in range(min(num_list)):\n",
    "                lis.append(tokenize(f.readline()))\n",
    "    return lis\n",
    "\n"
   ]
  },
  {
   "cell_type": "code",
   "execution_count": 30,
   "metadata": {
    "collapsed": false
   },
   "outputs": [],
   "source": [
    "def classify(X_train,Y_train,min_df=1,\n",
    "                 max_df=1., binary=True,tfidf=True,clas='OVR'):\n",
    "    \n",
    "    \"\"\"Constructs a classifier according to the specifications given\n",
    "    Params:\n",
    "    X_train:The training set X values\n",
    "    Y_train:The training set Y values\n",
    "    tfidf:If this is true, TfidfTransformer will be used\n",
    "    clas=if this parameter is OVR then OneVsRestClassifier will be used and if the value is\n",
    "         LOG then LogisticRegression will be used\n",
    "    Returns:\n",
    "    classifier:The constructed classifier will be returned\n",
    "    \"\"\"\n",
    "    if(tfidf==True and clas=='OVR'):\n",
    "        \n",
    "        classifier = Pipeline([\n",
    "            ('vectorizer', CountVectorizer(min_df=min_df,max_df=max_df, binary=binary)),\n",
    "            ('tfidf', TfidfTransformer()),\n",
    "            ('clf', OneVsRestClassifier(LinearSVC()))])\n",
    "    if (tfidf==False and clas=='OVR'):\n",
    "        \n",
    "        classifier = Pipeline([\n",
    "            ('vectorizer', CountVectorizer(min_df=min_df,max_df=max_df, binary=binary)),\n",
    "            ('clf', OneVsRestClassifier(LinearSVC()))])\n",
    "    if(tfidf==True and clas=='LOG'):\n",
    "        \n",
    "        classifier = Pipeline([\n",
    "            ('vectorizer', CountVectorizer(min_df=min_df,max_df=max_df, binary=binary)),\n",
    "            ('tfidf', TfidfTransformer()),\n",
    "            ('clf', LogisticRegression())])\n",
    "    if(tfidf==False and clas=='LOG'):\n",
    "        \n",
    "        classifier = Pipeline([\n",
    "            ('vectorizer', CountVectorizer(min_df=min_df,max_df=max_df, binary=binary)),\n",
    "            ('clf', LogisticRegression())])\n",
    "    classifier.fit(X_train, Y_train)\n",
    "    return classifier\n",
    "\n"
   ]
  },
  {
   "cell_type": "code",
   "execution_count": 31,
   "metadata": {
    "collapsed": false
   },
   "outputs": [],
   "source": [
    "def do_cross_validation(X, y,  verbose=False,fld=5,min_df=1,\n",
    "                 max_df=1., binary=True,tfidf=True,clas='OVR'):\n",
    "    \n",
    "    \"\"\"\n",
    "    Perform n-fold cross validation, calling get_clf() to train n\n",
    "    different classifiers. Use sklearn's KFold class: http://goo.gl/wmyFhi\n",
    "    Be sure not to shuffle the data, otherwise your output will differ.\n",
    "    Params:\n",
    "        X.........a csr_matrix of feature vectors\n",
    "        y.........the true labels of each document\n",
    "        n_folds...the number of folds of cross-validation to do\n",
    "        verbose...If true, report the testing accuracy for each fold.\n",
    "    Return:\n",
    "        the average testing accuracy across all folds.\n",
    "    \"\"\"\n",
    "    ###TODO\n",
    "    ###\n",
    "    cv = KFold(len(Y_train), fld)\n",
    "    accuracies = []\n",
    "    for train_idx, test_idx in cv:\n",
    "        XT=[]\n",
    "        X=[]\n",
    "        for p in  train_idx:\n",
    "            X.append(X_train[p])\n",
    "        for p in  test_idx:\n",
    "            XT.append(X_train[p])\n",
    "        clf= classify(X,Y_train[train_idx],min_df=min_df,\n",
    "                 max_df=max_df, binary=binary,tfidf=tfidf,clas=clas)\n",
    "        predicted = clf.predict(XT)\n",
    "        acc = accuracy_score(Y_train[test_idx], predicted)\n",
    "        accuracies.append(acc)\n",
    "    if verbose==True:\n",
    "        k=0\n",
    "        for m in accuracies:\n",
    "            \n",
    "            print 'fold %d accuracy=%.4f'%(k,m)\n",
    "            k=k+1\n",
    "    avg = np.mean(accuracies)\n",
    "    return avg\n",
    "    \n",
    "\n"
   ]
  },
  {
   "cell_type": "code",
   "execution_count": 32,
   "metadata": {
    "collapsed": false
   },
   "outputs": [
    {
     "name": "stdout",
     "output_type": "stream",
     "text": [
      "OneVsRestClassifier TfidfTransformer enabled\n",
      "0.657830188679\n",
      "OneVsRestClassifier TfidfTransformer disabled\n",
      "0.626438679245\n",
      "LogisticRegression TfidfTransformer enabled\n",
      "0.451037735849\n",
      "LogisticRegression TfidfTransformer disabled\n",
      "0.578797169811\n"
     ]
    }
   ],
   "source": [
    "\"\"\"Lets try different combinations of OneVsRestClassifier and OneVsRestClassifier with TfidfTransformer enabled and disabled \"\"\"\n",
    "Y_train=get_true_labels(file_list,num_list)\n",
    "X_train=tweet_list(file_list,num_list,path)\n",
    "for clas in ('OVR','LOG'):\n",
    "    for tfidf in (True,False):\n",
    "        if clas=='OVR':\n",
    "            print 'OneVsRestClassifier',\n",
    "        \n",
    "        else:\n",
    "            print 'LogisticRegression' ,\n",
    "        if tfidf==True:\n",
    "            print 'TfidfTransformer enabled'\n",
    "        else:\n",
    "            print 'TfidfTransformer disabled'\n",
    "        \n",
    "        classifier=classify(X_train,Y_train,clas=clas,tfidf=tfidf)\n",
    "        print do_cross_validation(X_train,Y_train,tfidf=tfidf,clas=clas)"
   ]
  },
  {
   "cell_type": "markdown",
   "metadata": {},
   "source": [
    "OneVsRestClassifier with TfidfTransformer enabled has the highest accuracy so we will be using this for our classifier"
   ]
  },
  {
   "cell_type": "code",
   "execution_count": 33,
   "metadata": {
    "collapsed": false
   },
   "outputs": [
    {
     "name": "stdout",
     "output_type": "stream",
     "text": [
      "0.661580188679\n",
      "1 0.2 True\n"
     ]
    }
   ],
   "source": [
    "\"\"\"Lets try different combinations of min_df,max_df,binary in our classifier\"\"\"\n",
    "acc=[]\n",
    "mindf=[]\n",
    "maxdf=[]\n",
    "binry=[]\n",
    "for binary in [True,False]:\n",
    "    for min_df in range(1,11):\n",
    "        for max_df in [.1, .2, .3, .4, .5, .6, .7, .8, .9, 1.]:\n",
    "            classifier=classify(X_train,Y_train,min_df=min_df,max_df=max_df, binary=binary)\n",
    "            acc.append(do_cross_validation(X_train,Y_train, verbose=False,fld=5,min_df=min_df,max_df=max_df, binary=binary))\n",
    "            mindf.append(min_df)\n",
    "            maxdf.append(max_df)\n",
    "            binry.append(binary)\n",
    "\n",
    "val=0\n",
    "ind=0\n",
    "for m in range(len(acc)):\n",
    "    if val<acc[m]:\n",
    "        val=acc[m]\n",
    "        ind=m\n",
    "print val\n",
    "print mindf[ind],\n",
    "print maxdf[ind],\n",
    "print binry[ind]"
   ]
  },
  {
   "cell_type": "markdown",
   "metadata": {},
   "source": [
    "The classifier has the highest accuracy when min_df=1,max_df=0.2 and binary=True "
   ]
  },
  {
   "cell_type": "code",
   "execution_count": 34,
   "metadata": {
    "collapsed": false
   },
   "outputs": [
    {
     "name": "stdout",
     "output_type": "stream",
     "text": [
      "1.0\n"
     ]
    }
   ],
   "source": [
    "def holdback_10_percent(classify,X_train,Y_train):\n",
    "    t= (min(num_list)*len(file_list))*10/100\n",
    "\n",
    "    X=[]\n",
    "    Y=[]\n",
    "    XT=[]\n",
    "    YT=[]\n",
    "    for p in range(len(X_train)):\n",
    "        if(p%t==0):\n",
    "            XT.append(X_train[p])\n",
    "            YT.append(Y_train[p])\n",
    "        else:\n",
    "            X.append(X_train[p])\n",
    "            Y.append(Y_train[p])\n",
    "    clf=classify(X,Y,max_df=0.2)\n",
    "    predicted = clf.predict(XT)\n",
    "    acc = accuracy_score(YT, predicted)\n",
    "    return acc\n",
    "print holdback_10_percent(classify,X_train,Y_train)"
   ]
  },
  {
   "cell_type": "code",
   "execution_count": 35,
   "metadata": {
    "collapsed": false
   },
   "outputs": [
    {
     "name": "stdout",
     "output_type": "stream",
     "text": [
      "Established Twitter Connection\n",
      "Collecting tweets...\n",
      "Tweets collected\n"
     ]
    }
   ],
   "source": [
    "def get_twitter(config_file):\n",
    "    \"\"\" Read the config_file and construct an instance of TwitterAPI.\n",
    "    Args:\n",
    "      config_file ... A config file in ConfigParser format with Twitter credentials\n",
    "    Returns:\n",
    "      An instance of TwitterAPI.\n",
    "    \"\"\"\n",
    "    config = ConfigParser.ConfigParser()\n",
    "    config.read(config_file)       \n",
    "    twitter = TwitterAPI(\n",
    "                   config.get('twitter', 'consumer_key'),\n",
    "                   config.get('twitter', 'consumer_secret'),\n",
    "                   config.get('twitter', 'access_token'),\n",
    "                   config.get('twitter', 'access_token_secret'))\n",
    "    print(\"Established Twitter Connection\")\n",
    "   \n",
    "    return twitter\n",
    "\n",
    "def data_clctr(n,twitter,lang,show_num=True):\n",
    "    \"\"\"Collects the tweets from usa,apply the tokenizer function and return the tweets in a list\n",
    "    Params:\n",
    "    nn:umber of tweets to be collected\n",
    "    twitter:an instance of twitterAPI\n",
    "    lang:The language of the tweets to be collected\n",
    "    show_num:If set true sows the progress of the tweeets being collected\n",
    "    Returns\n",
    "    A list of tweets collected\n",
    "    \"\"\"\n",
    "    r=twitter.request('statuses/filter',{'locations':'-124.637,24.548,-66.993,48.9974'})\n",
    "    m=0\n",
    "    tweets=[]\n",
    "    print \"Collecting tweets...\"\n",
    "    while (m<n):\n",
    "        item=r.get_iterator().next()\n",
    "       \n",
    "        if 'text' in item and 'lang' in item:\n",
    "            if item['lang']==lang:\n",
    "                m=m+1\n",
    "                tweets.append(tokenize(item['text']))\n",
    "                if show_num==True:\n",
    "                    print m\n",
    "    print (\"Tweets collected\")\n",
    "    return tweets\n",
    "\n",
    "num=1000\n",
    "number_of_tweets=num\n",
    "lan='en'\n",
    "lis=data_clctr(num,get_twitter('twitter.cfg'),lan,show_num=False)"
   ]
  },
  {
   "cell_type": "code",
   "execution_count": 36,
   "metadata": {
    "collapsed": false
   },
   "outputs": [
    {
     "name": "stdout",
     "output_type": "stream",
     "text": [
      "Sad : 49\n",
      "Happy : 51\n",
      "\n",
      "The predominant mood is Happy\n"
     ]
    },
    {
     "data": {
      "image/png": "[encoded data removed]",
      "text/plain": [
       "<matplotlib.figure.Figure at 0x3ce4400>"
      ]
     },
     "metadata": {},
     "output_type": "display_data"
    }
   ],
   "source": [
    "\n",
    "\n",
    "def predict(classifier,lis):\n",
    "    \"\"\"Predicts the mood of the tweets in the list\n",
    "    Params:\n",
    "    classifier:The classifier to be used\n",
    "    lis:The list of tweets\n",
    "    Returns:\n",
    "    Predictions:The list of predictions made by the classifier\n",
    "    \"\"\"\n",
    "    predictions=classifier.predict(lis)\n",
    "    k=0\n",
    "    for t in predictions:\n",
    "        k=k+t\n",
    "    return predictions\n",
    "\n",
    "\n",
    "\n",
    "def data_analysis(predictions,file_list,number_of_tweets):\n",
    "    \"\"\"Does analysis on the collected tweets and returns a dictionary with calculated values\n",
    "    Params:\n",
    "    Predictions:The list of predictions made\n",
    "    File_list:list of files used in the classifier\n",
    "    number_of_tweets:The number of tweets collected\n",
    "    Returns\n",
    "    dic1:A dictionary with number of tweets,percentage of tweets per each mood\"\"\"\n",
    "    lis=[]\n",
    "    dic={}\n",
    "    dic1={}\n",
    "    for m in predictions:\n",
    "        lis.append(m)\n",
    "    for m in file_list:\n",
    "    \n",
    "        dic[(int(m.split('.txt')[0]))]=lis.count(int(m.split('.txt')[0]))\n",
    "    for p in dic.keys():\n",
    "        dic1[label[str(p)]]={'number':dic[p],\n",
    "                             'percentage':dic[p]*100/number_of_tweets,\n",
    "                             'weighted_point':dic[p]*p,\n",
    "                             'weight':p}\n",
    "    \n",
    "    return dic1\n",
    "\n",
    "def predominant_mood(data_dic,percent_show=True):\n",
    "    \"\"\"Calculates the predominant mood \n",
    "    Params:\n",
    "    data_dic: The dictionary with calculated values about the moods\n",
    "    percent_show:If set true will show the percentage of each mood\n",
    "    Returns:\n",
    "    n:The predominant mood\"\"\"\n",
    "    \n",
    "    l=0\n",
    "    n=''\n",
    "    for m in data_dic.keys():\n",
    "        if percent_show==True:\n",
    "            print m+' : %d'%data_dic[m]['percentage']\n",
    "        if l<data_dic[m]['percentage']:\n",
    "            l=data_dic[m]['percentage']\n",
    "            n=m\n",
    "    return n\n",
    "\n",
    "classifier=classify(X_train,Y_train,max_df=0.2)\n",
    "label=labl('label.txt')\n",
    "predictions=predict(classifier,lis)\n",
    "data_dic=data_analysis(predictions,file_list,number_of_tweets)\n",
    "print '\\nThe predominant mood is '+predominant_mood(data_dic,percent_show=True)\n",
    "plt.figure()\n",
    "plt.bar([0, 1],[data_dic['Sad']['percentage'],data_dic['Happy']['percentage']] )\n",
    "plt.xticks([.5, 1.5], ['Sad','Happy'])\n",
    "plt.show()"
   ]
  },
  {
   "cell_type": "code",
   "execution_count": 37,
   "metadata": {
    "collapsed": false
   },
   "outputs": [
    {
     "name": "stdout",
     "output_type": "stream",
     "text": [
      "['monday', 'tuesday', 'wednesday', 'thursday', 'friday', 'saturday', 'sunday']\n",
      "[52.93, 46.85, 46.02, 46.04, 47.68, 47.36, 49.73]\n",
      "[47.07, 53.15, 53.98, 53.96, 52.32, 52.64, 50.27]\n"
     ]
    }
   ],
   "source": [
    "def tweet_analysis(classifier,path,m,t):\n",
    "    \"\"\"Returns the percentage of happy and sad tweets in a file\n",
    "    Param:\n",
    "    classifier:The classifier to be used\n",
    "    path:The path\n",
    "    m:the day\n",
    "    t:name of the file\n",
    "    Returns:\n",
    "    a tuple of sad and happy tweet percentage in the given file\"\"\"\n",
    "    \n",
    "    lis=[]\n",
    "    with open(path+os.sep+m+os.sep+t) as f:\n",
    "                for m in range(10000):\n",
    "                    lis.append(tokenize(f.readline()))\n",
    "    predictions=predict(classifier,lis)\n",
    "    data_dic=data_analysis(predictions,file_list,10000.000)\n",
    "    return [data_dic['Sad']['percentage'],data_dic['Happy']['percentage']]\n",
    "\n",
    "\n",
    "def week_mood(path):\n",
    "    \"\"\"determines the percentage of happy and sad moods made in each day of the week\n",
    "    Param:\n",
    "    path:the path\n",
    "    Returns:\n",
    "    A tuple of list of days in the week,percentage od sad tweets in that day and percentage of happy tweets made in that day\"\"\"\n",
    "    week=['monday','tuesday','wednesday','thursday','friday','saturday','sunday']\n",
    "    \n",
    "    sd=[]\n",
    "    hppy=[]\n",
    "    for m in week:\n",
    "        l=[]\n",
    "        k=os.listdir(path+os.sep+m)\n",
    "        sad=0\n",
    "        happy=0\n",
    "        n=0\n",
    "        for t in k:\n",
    "            if t.endswith('.txt'):\n",
    "            #print path,\n",
    "            #print m,\n",
    "            \n",
    "                s,h=tweet_analysis(classifier,path,m,t)\n",
    "                sad=sad+s\n",
    "                happy=happy+h\n",
    "        sd.append(round((sad/10),2))\n",
    "        hppy.append(round((happy/10),2))\n",
    "    return week,sd,hppy\n",
    "\n",
    "\n",
    "week,sd,hppy=week_mood('data_week')\n",
    "\n",
    "print week\n",
    "print sd\n",
    "print hppy\n"
   ]
  },
  {
   "cell_type": "code",
   "execution_count": 38,
   "metadata": {
    "collapsed": false
   },
   "outputs": [
    {
     "data": {
      "image/png": "[encoded data removed]",
      "text/plain": [
       "<matplotlib.figure.Figure at 0x19797b00>"
      ]
     },
     "metadata": {},
     "output_type": "display_data"
    }
   ],
   "source": [
    "def plt_graph(week,hppy):\n",
    "    \"\"\"Plot a graph showing the transition of percentage of happiness as the week progresses\n",
    "    Params:\n",
    "    week:list of days in a week\n",
    "    hppy:list of percentage of happy tweets made each day\"\"\"\n",
    "    \n",
    "    plt.plot(range(len(week)),hppy,marker='o')\n",
    "    plt.xticks(range(len(week)),week)\n",
    "    plt.ylabel('happy_percentage')\n",
    "    plt.xlabel('days of the week')\n",
    "    plt.show()\n",
    "plt_graph(week,hppy)"
   ]
  }
 ],
 "metadata": {
  "kernelspec": {
   "display_name": "Python 2",
   "language": "python",
   "name": "python2"
  },
  "language_info": {
   "codemirror_mode": {
    "name": "ipython",
    "version": 2
   },
   "file_extension": ".py",
   "mimetype": "text/x-python",
   "name": "python",
   "nbconvert_exporter": "python",
   "pygments_lexer": "ipython2",
   "version": "2.7.10"
  }
 },
 "nbformat": 4,
 "nbformat_minor": 0
}
