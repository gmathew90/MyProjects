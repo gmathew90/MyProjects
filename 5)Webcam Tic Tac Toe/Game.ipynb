{
 "cells": [
  {
   "cell_type": "code",
   "execution_count": 1,
   "metadata": {
    "collapsed": false
   },
   "outputs": [],
   "source": [
    "def mark(frame,inp,x1,y1,size,R,G,B):\n",
    "    for m in range(len(inp)):\n",
    "        if inp[m]==1:\n",
    "            cv2.circle(frame,((x1+(size/2))+((m%3)*size),(y1-(size/2))+((m/3)*size)),10,(B,G,R), 3) \n",
    "        if inp[m]==2:\n",
    "            cv2.line(frame,\n",
    "                     ((x1+(size/2))+((m%3)*size)+10,(y1-(size/2))+((m/3)*size)+10)\n",
    "                     ,((x1+(size/2))+((m%3)*size)-10,(y1-(size/2))+((m/3)*size)-10),\n",
    "                     (B,G,R), 3)\n",
    "            cv2.line(frame,\n",
    "                     ((x1+(size/2))+((m%3)*size)+10,(y1-(size/2))+((m/3)*size)-10),\n",
    "                     ((x1+(size/2))+((m%3)*size)-10,(y1-(size/2))+((m/3)*size)+10),\n",
    "                     (B,G,R), 3)"
   ]
  },
  {
   "cell_type": "code",
   "execution_count": 2,
   "metadata": {
    "collapsed": true
   },
   "outputs": [],
   "source": [
    "def base(frame,size,x1,y1,R,G,B):\n",
    "    cv2.line(frame, (x1+size,y1-size), (x1+size, y1+(size*2)),(B,G,R), 3)\n",
    "    cv2.line(frame, (x1+(size*2),y1-size), (x1+(size*2),y1+(size*2)),(B,G,R), 3)\n",
    "    cv2.line(frame, (x1,y1), (x1+(size*3), y1),(B,G,R), 3)\n",
    "    cv2.line(frame, (x1,y1+size), (x1+(size*3), y1+size),(B,G,R), 3)"
   ]
  },
  {
   "cell_type": "code",
   "execution_count": 3,
   "metadata": {
    "collapsed": false
   },
   "outputs": [],
   "source": [
    "def winner(frame,inp,x1,y1,size,R,G,B):\n",
    "    flg=0\n",
    "    win=0\n",
    "    for m in range(3):\n",
    "        buff=inp[m*3]\n",
    "        if(buff==inp[(m*3)+1]) and (buff==inp[(m*3)+2]) and buff!=0:\n",
    "            flg=1\n",
    "            win=buff\n",
    "            cv2.line(frame,(x1+size/2,(y1-size/2)+m*size),(x1+(size*5/2),(y1-size/2)+m*size),(B,G,R), 3)\n",
    "        buff=inp[m]\n",
    "        if(buff==inp[m+3]) and (buff==inp[m+6]) and buff!=0:\n",
    "            flg=1\n",
    "            win=buff\n",
    "            cv2.line(frame,((x1+size/2)+(size*m),y1-size/2),((x1+size/2)+(size*m),y1+(3*size/2)),(B,G,R), 3)\n",
    "    buff=inp[0]  \n",
    "    if(buff==inp[4]) and buff==inp[8] and buff!=0:\n",
    "        flg=1\n",
    "        win=buff\n",
    "        cv2.line(frame,((x1+size/2),y1-size/2),(x1+(size*5/2),y1+(3*size/2)),(B,G,R), 3)\n",
    "    buff=inp[2]  \n",
    "    if(buff==inp[4]) and buff==inp[6] and buff!=0:\n",
    "        flg=1\n",
    "        win=buff\n",
    "        cv2.line(frame,(x1+(size*5/2),y1-size/2),((x1+size/2),y1+(3*size/2)),(B,G,R), 3)\n",
    "    return win"
   ]
  },
  {
   "cell_type": "code",
   "execution_count": 4,
   "metadata": {
    "collapsed": false
   },
   "outputs": [],
   "source": [
    "def game(inp,maxLoc,x1,y1,size,ply):\n",
    "    fl=0\n",
    "    for m in range(len(inp)):\n",
    "           if  maxLoc[0]>x1+(size*(m%3)) and maxLoc[0]<(x1+(size*((m%3)+1))) and maxLoc[1]>(y1+(size*((m/3)-1))) and maxLoc[1]<(y1+(size*((m/3)))) and inp[m]==0:\n",
    "            inp[m]=ply\n",
    "            fl=1\n",
    "    if fl==1:\n",
    "        if ply==1:\n",
    "            ply=2\n",
    "        else:\n",
    "            ply=1\n",
    "    return inp,ply"
   ]
  },
  {
   "cell_type": "code",
   "execution_count": 5,
   "metadata": {
    "collapsed": false
   },
   "outputs": [],
   "source": [
    "import cv2\n",
    "cv2.namedWindow(\"preview\")\n",
    "vc = cv2.VideoCapture(0)\n",
    "if vc.isOpened(): # try to get the first frame\n",
    "    rval, frame = vc.read()\n",
    "else:\n",
    "    rval = False\n",
    "cv2.imshow(\"preview\",frame)\n",
    "x1=210\n",
    "y1=200\n",
    "size=80\n",
    "inp=[]\n",
    "inp=[0,0,0,0,0,0,0,0,0]\n",
    "ply=1\n",
    "fl=0\n",
    "while rval:\n",
    "    \n",
    "    base(frame,size,x1,y1,255,0,0)\n",
    "    mark(frame,inp,x1,y1,size,255,0,0)\n",
    "    win=winner(frame,inp,x1,y1,size,0,255,0)\n",
    "    gry = cv2.cvtColor(frame, cv2.COLOR_BGR2GRAY)\n",
    "    ret,gray = cv2.threshold(gry,250,255,cv2.THRESH_BINARY)\n",
    "    (minVal, maxVal, minLoc, maxLoc) = cv2.minMaxLoc(gray)\n",
    "    cv2.putText(frame,'New Game', (20,400), cv2.FONT_HERSHEY_SIMPLEX, 0.5, (0,255,0))\n",
    "    cv2.rectangle(frame,(10,410),(110,380), (0,255,0),1)\n",
    "    if maxLoc[0]>10 and maxLoc[0]<110 and maxLoc[1]<410 and maxLoc[1]>380:\n",
    "        inp=[0,0,0,0,0,0,0,0,0]\n",
    "    cv2.putText(frame,'Exit', (525,400), cv2.FONT_HERSHEY_SIMPLEX, 0.5, (0,255,0))\n",
    "    cv2.rectangle(frame,(500,410),(600,380), (0,255,0),1)\n",
    "    if maxLoc[0]>500 and maxLoc[0]<600 and maxLoc[1]<410 and maxLoc[1]>380:\n",
    "        vc.release()\n",
    "        break\n",
    "    if maxVal>249:\n",
    "        cv2.circle(frame, maxLoc, 5, (255, 0, 0), 2)\n",
    "    if maxLoc[0]>x1 and maxLoc[0]<(x1+(size*8)) and maxLoc[1]>(y1-size) and maxLoc[1]<(y1+(size*2)) and win==0 and maxVal>249:\n",
    "        \n",
    "        inp,ply=game(inp,maxLoc,x1,y1,size,ply)\n",
    "    if win!=0:\n",
    "        txt='Player '+str(win)+' Wins'\n",
    "        cv2.putText(frame,txt, (x1,y1), cv2.FONT_HERSHEY_SIMPLEX, 1.7, (0,255,0))\n",
    "    fl=0\n",
    "    for m in inp:\n",
    "        if m==0:\n",
    "            fl=1\n",
    "    if fl==0 and win==0:\n",
    "        cv2.putText(frame,'Tie', (x1+size,y1+size), cv2.FONT_HERSHEY_SIMPLEX, 1.7, (0,255,0))\n",
    "    cv2.imshow(\"preview\", frame)\n",
    "    rval, frame = vc.read()\n",
    "    \n",
    "    key = cv2.waitKey(20)\n",
    "    if key == 27:\n",
    "        vc.release()\n",
    "        break\n",
    "cv2.destroyWindow(\"preview\")"
   ]
  },
  {
   "cell_type": "code",
   "execution_count": 58,
   "metadata": {
    "collapsed": false
   },
   "outputs": [],
   "source": []
  }
 ],
 "metadata": {
  "kernelspec": {
   "display_name": "Python 2",
   "language": "python",
   "name": "python2"
  },
  "language_info": {
   "codemirror_mode": {
    "name": "ipython",
    "version": 2
   },
   "file_extension": ".py",
   "mimetype": "text/x-python",
   "name": "python",
   "nbconvert_exporter": "python",
   "pygments_lexer": "ipython2",
   "version": "2.7.11"
  }
 },
 "nbformat": 4,
 "nbformat_minor": 0
}
