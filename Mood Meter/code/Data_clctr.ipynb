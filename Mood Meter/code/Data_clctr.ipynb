{
 "cells": [
  {
   "cell_type": "code",
   "execution_count": 7,
   "metadata": {
    "collapsed": true
   },
   "outputs": [],
   "source": [
    "# Imports you'll need.\n",
    "from collections import Counter\n",
    "import ConfigParser\n",
    "import sys\n",
    "import time\n",
    "from TwitterAPI import TwitterAPI\n",
    "import io\n",
    "%matplotlib inline\n",
    "# This method is done for you. Make sure to put your credentials in twitter.cfg.\n",
    "def get_twitter(config_file):\n",
    "    \"\"\" Read the config_file and construct an instance of TwitterAPI.\n",
    "    Args:\n",
    "      config_file ... A config file in ConfigParser format with Twitter credentials\n",
    "    Returns:\n",
    "      An instance of TwitterAPI.\n",
    "    \"\"\"\n",
    "    config = ConfigParser.ConfigParser()\n",
    "    config.read(config_file)       \n",
    "    twitter = TwitterAPI(\n",
    "                   config.get('twitter', 'consumer_key'),\n",
    "                   config.get('twitter', 'consumer_secret'),\n",
    "                   config.get('twitter', 'access_token'),\n",
    "                   config.get('twitter', 'access_token_secret'))\n",
    "    print(\"Established Twitter Connection\")\n",
    "   \n",
    "    return twitter\n",
    "\n",
    "\n",
    "def data_clctr(twitter,lang,k):\n",
    "    \"\"\"Collect tweets from USA\n",
    "    Params:\n",
    "    twitter:An instance of TwitterAPI\n",
    "    lang:The language of the tweets to be collected\n",
    "    k:the function collects 10000 x k tweets\"\"\"\n",
    "    r=twitter.request('statuses/filter',{'locations':'-124.637,24.548,-66.993,48.9974'})\n",
    "    m=0\n",
    "    n=1\n",
    "    tweets=[]\n",
    "    print \"Collecting tweets...\"\n",
    "    while (n<=k):\n",
    "        item=r.get_iterator().next()\n",
    "       \n",
    "        if 'text' in item and 'lang' in item:\n",
    "            if item['lang']==lang:\n",
    "                m=m+1\n",
    "                tweets.append(item['text'])\n",
    "                \n",
    "        if (m==10000):\n",
    "            m=0;\n",
    "            file_writer(tweets,n,lang)\n",
    "            n=n+1\n",
    "            tweets=[]\n",
    "    \n",
    "def file_writer(tweets,n,lan):\n",
    "    \"\"\"writes the tweets into a file\n",
    "    Params:\n",
    "    tweets:the 10000 tweets collected\n",
    "    n:the number of tweets collected so far/10000\n",
    "    lan:the language of the tweets collected\"\"\"\n",
    "    outf = io.open('tweets'+'_'+str(n)+'.txt', 'w',encoding='utf8')\n",
    "    print \"Saving tweets \"+str(10000)\n",
    "    for m in tweets:\n",
    "        outf.write(m +'<endofTweet>'+ u'\\n')\n",
    "    outf.close()\n",
    "    print str(n*10000)+\" tweets saved\""
   ]
  },
  {
   "cell_type": "code",
   "execution_count": 8,
   "metadata": {
    "collapsed": false
   },
   "outputs": [
    {
     "name": "stdout",
     "output_type": "stream",
     "text": [
      "Established Twitter Connection\n",
      "Collecting tweets...\n",
      "Saving tweets 10000\n",
      "10000 tweets saved\n",
      "Saving tweets 10000\n",
      "20000 tweets saved\n",
      "Saving tweets 10000\n",
      "30000 tweets saved\n",
      "Saving tweets 10000\n",
      "40000 tweets saved\n",
      "Saving tweets 10000\n",
      "50000 tweets saved\n",
      "Saving tweets 10000\n",
      "60000 tweets saved\n",
      "Saving tweets 10000\n",
      "70000 tweets saved\n",
      "Saving tweets 10000\n",
      "80000 tweets saved\n",
      "Saving tweets 10000\n",
      "90000 tweets saved\n",
      "Saving tweets 10000\n",
      "100000 tweets saved\n"
     ]
    }
   ],
   "source": [
    "data_clctr(get_twitter('twitter.cfg'),'en',10)"
   ]
  }
 ],
 "metadata": {
  "kernelspec": {
   "display_name": "Python 2",
   "language": "python",
   "name": "python2"
  },
  "language_info": {
   "codemirror_mode": {
    "name": "ipython",
    "version": 2
   },
   "file_extension": ".py",
   "mimetype": "text/x-python",
   "name": "python",
   "nbconvert_exporter": "python",
   "pygments_lexer": "ipython2",
   "version": "2.7.10"
  }
 },
 "nbformat": 4,
 "nbformat_minor": 0
}
